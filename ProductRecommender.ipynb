{
 "cells": [
  {
   "cell_type": "code",
   "execution_count": 7,
   "metadata": {},
   "outputs": [],
   "source": [
    "import os\n",
    "import csv\n",
    "from surprise import BaselineOnly\n",
    "from surprise import Dataset\n",
    "from surprise import Reader\n",
    "from surprise import SVD\n",
    "from surprise import accuracy\n",
    "from surprise.model_selection import cross_validate\n",
    "from surprise.model_selection import train_test_split\n",
    "from collections import defaultdict"
   ]
  },
  {
   "cell_type": "code",
   "execution_count": 8,
   "metadata": {},
   "outputs": [
    {
     "name": "stdout",
     "output_type": "stream",
     "text": [
      "harsh ['Apple Macbook Pro', 'Apple Macbook Pro 16', 'Apple iPhone 11 Pro']\n",
      "ninad ['Apple iPhone 11 Pro']\n",
      "chirag ['Apple Macbook Pro 16', 'Apple iPhone 11', 'Apple Macbook Air']\n",
      "chris ['Apple Macbook Pro 16', 'Apple Macbook Pro', 'Apple iPhone 11 Pro Max']\n",
      "nishant ['Apple iPhone 11 Pro Max', 'Apple Macbook Pro 16', 'Dell Inspiron 6546']\n",
      "satyaveer ['Apple Macbook Pro 16', 'Dell Inspiron 6546', 'Apple iPhone 11 Pro']\n",
      "akash ['Apple Macbook Pro', 'Apple iPhone 11 Pro', 'Apple iPhone 11']\n",
      "dhiraj ['Apple iPhone 11 Pro Max', 'Apple Macbook Pro', 'Dell Inspiron 6546']\n",
      "jose ['Apple Macbook Pro 16', 'Apple iPhone 11 Pro Max', 'Apple iPhone 11 Pro']\n"
     ]
    }
   ],
   "source": [
    "pr_file_path=\"C:/apache-tomcat-7.0.34/webapps/Tutorial_1/\"\n",
    "\n",
    "with open(pr_file_path+\"/Transactionsdata_train.csv\", \"r\") as f:\n",
    "    reader = csv.DictReader(f, delimiter=',')\n",
    "    with open(pr_file_path+\"/Transactionsdata_test.csv\", \"w\",newline='') as f_out:\n",
    "        writer = csv.DictWriter(f_out, fieldnames=reader.fieldnames, delimiter=\",\")\n",
    "        for row in reader:\n",
    "            writer.writerow(row)\n",
    "            \n",
    "file_path = os.path.expanduser(pr_file_path+'/Transactionsdata_test.csv')\n",
    "\n",
    "# As we're loading a custom dataset, we need to define a reader. In the\n",
    "# movielens-100k dataset, each line has the following format:\n",
    "# 'user item rating timestamp', separated by '\\t' characters.\n",
    "reader = Reader(line_format='user item rating', sep=',')\n",
    "\n",
    "#data = Dataset.load_from_file(file_path, reader=reader)\n",
    "\n",
    "def get_top_n(predictions, n=10):\n",
    "    # First map the predictions to each user.\n",
    "    top_n = defaultdict(list)\n",
    "    for uid, iid, true_r, est, _ in predictions:\n",
    "        top_n[uid].append((iid, est))\n",
    "\n",
    "    # Then sort the predictions for each user and retrieve the k highest ones.\n",
    "    for uid, user_ratings in top_n.items():\n",
    "        user_ratings.sort(key=lambda x: x[1], reverse=True)\n",
    "        top_n[uid] = user_ratings[:n]\n",
    "\n",
    "    return top_n\n",
    "\n",
    "# First train an SVD algorithm on the movielens dataset.\n",
    "data = Dataset.load_from_file(file_path, reader=reader)\n",
    "trainset = data.build_full_trainset()\n",
    "algo = SVD()\n",
    "algo.fit(trainset)\n",
    "\n",
    "# Than predict ratings for all pairs (u, i) that are NOT in the training set.\n",
    "testset = trainset.build_anti_testset()\n",
    "predictions = algo.test(testset)\n",
    "\n",
    "top_n = get_top_n(predictions, n=3)\n",
    "\n",
    "# Print the recommended items for each user\n",
    "for uid, user_ratings in top_n.items():\n",
    "    print(uid, [iid for (iid, _) in user_ratings])\n",
    "    \n",
    "out = open(pr_file_path+'/matrixFactorizationBasedRecommendations.csv', 'w',newline='')\n",
    "output=csv.writer(out)\n",
    "\n",
    "for uid, user_ratings in top_n.items():\n",
    "    output.writerow([uid, [iid for (iid, _) in user_ratings]])\n",
    "    \n",
    "out.close()\n"
   ]
  }
 ],
 "metadata": {
  "anaconda-cloud": {},
  "kernelspec": {
   "display_name": "Python 3",
   "language": "python",
   "name": "python3"
  },
  "language_info": {
   "codemirror_mode": {
    "name": "ipython",
    "version": 3
   },
   "file_extension": ".py",
   "mimetype": "text/x-python",
   "name": "python",
   "nbconvert_exporter": "python",
   "pygments_lexer": "ipython3",
   "version": "3.8.5"
  }
 },
 "nbformat": 4,
 "nbformat_minor": 1
}
