{
 "cells": [
  {
   "cell_type": "code",
   "execution_count": 3,
   "metadata": {},
   "outputs": [],
   "source": [
    "import contextlib\n",
    "import csv\n",
    "import datetime\n",
    "import os\n",
    "import pymysql\n",
    "\n",
    "DOCTORS_SQL_QUERY = \"\"\"\n",
    "SELECT * FROM doctorappointments\n",
    "\"\"\"\n",
    "\n",
    "INSURANCES_SQL_QUERY = \"\"\"\n",
    "SELECT * FROM insuranceTransaction\n",
    "\"\"\"\n",
    "\n",
    "PHARMACIES_SQL_QUERY = \"\"\"\n",
    "SELECT * FROM pharmacyappointments\n",
    "\"\"\"\n",
    "\n",
    "connection = pymysql.connect(host='localhost',\n",
    "                             user='root',\n",
    "                             password='1234',\n",
    "                             db='healthhub')\n",
    "\n",
    "with contextlib.closing(connection):\n",
    "    with connection.cursor() as cursor:\n",
    "        \n",
    "        cursor.execute(DOCTORS_SQL_QUERY)\n",
    "        doctors_results = cursor.fetchall()\n",
    "                \n",
    "        cursor.execute(PHARMACIES_SQL_QUERY)\n",
    "        pharmacies_results = cursor.fetchall()\n",
    "        \n",
    "        cursor.execute(INSURANCES_SQL_QUERY)\n",
    "        insurances_results = cursor.fetchall()\n",
    "\n",
    "\n",
    "customerorders_output_file = 'doctors_appointments.csv'\n",
    "with open(customerorders_output_file, 'w', newline='') as csvfile:\n",
    "    \n",
    "    csv_writer = csv.writer(csvfile, lineterminator='\\n')\n",
    "    csv_writer.writerows(doctors_results)\n",
    "\n",
    "    \n",
    "customerorders_output_file = 'pharmacy_appointments.csv'\n",
    "with open(customerorders_output_file, 'w', newline='') as csvfile:\n",
    "    \n",
    "    csv_writer = csv.writer(csvfile, lineterminator='\\n')\n",
    "    csv_writer.writerows(pharmacies_results)\n",
    "\n",
    "    \n",
    "customerorders_output_file = 'insurance_transaction.csv'\n",
    "with open(customerorders_output_file, 'w', newline='') as csvfile:\n",
    "    \n",
    "    csv_writer = csv.writer(csvfile, lineterminator='\\n')\n",
    "    csv_writer.writerows(insurances_results)\n",
    "\n"
   ]
  },
  {
   "cell_type": "code",
   "execution_count": null,
   "metadata": {},
   "outputs": [],
   "source": []
  },
  {
   "cell_type": "code",
   "execution_count": 4,
   "metadata": {},
   "outputs": [],
   "source": [
    "\n"
   ]
  },
  {
   "cell_type": "code",
   "execution_count": null,
   "metadata": {},
   "outputs": [],
   "source": []
  }
 ],
 "metadata": {
  "kernelspec": {
   "display_name": "tensorflowenv",
   "language": "python",
   "name": "tensorflowenv"
  },
  "language_info": {
   "codemirror_mode": {
    "name": "ipython",
    "version": 3
   },
   "file_extension": ".py",
   "mimetype": "text/x-python",
   "name": "python",
   "nbconvert_exporter": "python",
   "pygments_lexer": "ipython3",
   "version": "3.6.10"
  }
 },
 "nbformat": 4,
 "nbformat_minor": 4
}
